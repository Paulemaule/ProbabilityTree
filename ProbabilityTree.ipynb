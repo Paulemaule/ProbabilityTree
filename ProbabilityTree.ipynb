{
 "cells": [
  {
   "cell_type": "code",
   "execution_count": 1,
   "id": "56e560ba-f1f6-4690-afb3-074b8b303a58",
   "metadata": {},
   "outputs": [],
   "source": [
    "# imports"
   ]
  },
  {
   "cell_type": "code",
   "execution_count": 2,
   "id": "db3ffd46-0fb0-4492-beb5-290500e5dc16",
   "metadata": {},
   "outputs": [],
   "source": [
    "# the classes"
   ]
  },
  {
   "cell_type": "code",
   "execution_count": 3,
   "id": "71eb1970-bc6b-428c-9e6d-3f3f90f19875",
   "metadata": {},
   "outputs": [],
   "source": [
    "# dnd stuff"
   ]
  },
  {
   "cell_type": "code",
   "execution_count": null,
   "id": "ab535a9a-f0cf-4f00-8626-01e4dbb76d85",
   "metadata": {},
   "outputs": [],
   "source": []
  }
 ],
 "metadata": {
  "kernelspec": {
   "display_name": "Python 3 (ipykernel)",
   "language": "python",
   "name": "python3"
  },
  "language_info": {
   "codemirror_mode": {
    "name": "ipython",
    "version": 3
   },
   "file_extension": ".py",
   "mimetype": "text/x-python",
   "name": "python",
   "nbconvert_exporter": "python",
   "pygments_lexer": "ipython3",
   "version": "3.10.4"
  }
 },
 "nbformat": 4,
 "nbformat_minor": 5
}
