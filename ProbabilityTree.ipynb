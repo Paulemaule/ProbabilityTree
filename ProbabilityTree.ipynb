{
 "cells": [
  {
   "cell_type": "code",
   "execution_count": 1,
   "id": "56e560ba-f1f6-4690-afb3-074b8b303a58",
   "metadata": {},
   "outputs": [],
   "source": [
    "# imports\n",
    "from inspect import signature\n",
    "\n",
    "from warnings import warn\n",
    "\n",
    "from copy import copy, deepcopy"
   ]
  },
  {
   "cell_type": "code",
   "execution_count": 10,
   "id": "c190adb2-948f-4432-bc96-b241f27b3dac",
   "metadata": {},
   "outputs": [],
   "source": [
    "class Operation():\n",
    "    def __init__(self, function, name):\n",
    "        assert callable(function), (\n",
    "            'The function needs to be callable')\n",
    "        assert len(signature(function).parameters) == 2, (\n",
    "            'The function need to take exactly two parameters')\n",
    "        assert type(name) == str, (\n",
    "            'The name must be a string')\n",
    "        \n",
    "        self.function = function\n",
    "        self.name = name\n",
    "    \n",
    "    def __call__(self, outcome, node):\n",
    "        return [self.function(outcome, o) for o in node._outcomes]\n",
    "    \n",
    "    def __repr__(self):\n",
    "        return  f'<Operation: name={self.name}>'"
   ]
  },
  {
   "cell_type": "code",
   "execution_count": 55,
   "id": "db3ffd46-0fb0-4492-beb5-290500e5dc16",
   "metadata": {
    "tags": []
   },
   "outputs": [],
   "source": [
    "class Node():\n",
    "    # define some general operations\n",
    "    standard_operations = {'+': Operation(lambda x,y: x+y, 'add'), \n",
    "                  '*': Operation(lambda x,y: x*y, 'multiply'), \n",
    "                  'concat': Operation(lambda x,y: [x,y], 'concatenate')}\n",
    "    \n",
    "    _default_operation = standard_operations['+']\n",
    "    \n",
    "    # makes it possible to turn off warnings globally\n",
    "    def _issue_warnings(issue_warnings, ):\n",
    "        Node._warnings_enabled = issue_warnings\n",
    "    \n",
    "    _warnings_enabled = True\n",
    "    \n",
    "    issue_warnings = _issue_warnings\n",
    "    \n",
    "    \n",
    "    def __init__(self, outcomes, probabilities = None, nodes = None, operations = None):\n",
    "        if probabilities == None:\n",
    "            probabilities = [1/len(outcomes) for o in outcomes]\n",
    "            \n",
    "        if nodes == None:\n",
    "            nodes = [None for o in outcomes]\n",
    "            \n",
    "        if operations == None:\n",
    "            operations = [None if n == None else Node._default_operation for n in nodes]\n",
    "        \n",
    "        # check validitiy of inputs\n",
    "        assert all(type(p) == float or type(p) == int for p in probabilities), (\n",
    "            'probabilities should be float or int')\n",
    "        assert all(type(n) == Node or n == None for n in nodes), (\n",
    "            'nodes must be Node objects or None')\n",
    "        assert all(type(o) == Operation or o == None for o in operations), (\n",
    "            'operations must be Operations objects or None')\n",
    "        \n",
    "        assert (len(outcomes) == len(probabilities) and \n",
    "                len(outcomes) == len(nodes) and \n",
    "                len(outcomes) == len(operations)), (\n",
    "            'all inputs need to have the same lenght')\n",
    "        \n",
    "        assert all((n == None) == (o == None) for n, o in zip(nodes, operations)), (\n",
    "            'nodes must be accompanied by an operation and the other way around')\n",
    "        \n",
    "        # warnings\n",
    "        if sum(probabilities) != 1 and Node._warnings_enabled: warn(\n",
    "            f'Warning: The total probability is {sum(probabilities):.4f} 1')\n",
    "            \n",
    "        # create tree\n",
    "        self._outcomes = outcomes\n",
    "        self._probabilities = probabilities\n",
    "        \n",
    "        self._nodes = nodes\n",
    "        self._operations = operations\n",
    "    \n",
    "    def branch_at(self, node, operation, index):\n",
    "        out = copy(self)\n",
    "        \n",
    "        out._nodes[index] == node\n",
    "        out._operations[index] == operation\n",
    "        \n",
    "        return out\n",
    "    \n",
    "    def branch_all_root(self, node, operation):\n",
    "        out = copy(self)\n",
    "        \n",
    "        out._nodes = [node if n==None else n for n in self._nodes]\n",
    "        out._operations = [operation if o==None else o for o in self._operations]\n",
    "        \n",
    "        return out\n",
    "    \n",
    "    def branch_all(self, node, operation):\n",
    "        out = copy(self)\n",
    "        \n",
    "        out._nodes = [node if n==None else n.branch_all(node, operation) for n in self._nodes]\n",
    "        out._operations = [operation if o==None else o for o in self._operations]\n",
    "        \n",
    "        return out\n",
    "    \n",
    "    def collapse_v(self, ):\n",
    "        outcomes = []\n",
    "        probabilities = []\n",
    "        \n",
    "        for i in range(len(self)):\n",
    "            if self._nodes[i] != None:\n",
    "                node = self._nodes[i].collapse_v()\n",
    "                \n",
    "                outcomes += self._operations[i](self._outcomes[i], node)\n",
    "                probabilities += [self._probabilities[i] * p for p in node._probabilities]\n",
    "            else:\n",
    "                outcomes.append(self._outcomes[i])\n",
    "                probabilities.append(self._probabilities[i])\n",
    "        \n",
    "        return Node(outcomes, probabilities)\n",
    "                \n",
    "    def collapse_h(self, ):\n",
    "        \n",
    "        \n",
    "    \n",
    "    def __add__(self, node):\n",
    "        return self.branch_all(node, Node.standard_operations['+'])\n",
    "        \n",
    "    def __sub__(self, node):\n",
    "        return self.branch_all(node, Node.standard_operations['-'])\n",
    "        \n",
    "    def __mul__(self, node):\n",
    "        return self.branch_all(node, Node.standard_operations['*'])\n",
    "        \n",
    "    def __eq__(self, node):\n",
    "        if type(node) != Node: \n",
    "            return False\n",
    "        else:\n",
    "            return -1\n",
    "        \n",
    "    def __len__(self, ):\n",
    "        return len(self._outcomes)\n",
    "    \n",
    "    def __copy__(self, ):\n",
    "        out = Node(copy(self._outcomes), \n",
    "                   copy(self._probabilities), \n",
    "                   [copy(n) for n in self._nodes], \n",
    "                   copy(self._operations))\n",
    "        \n",
    "        return out\n",
    "    \n",
    "    def __deepcopy__(self, memo):\n",
    "        out = Node(deepcopy(self._outcomes, memo), \n",
    "                   deepcopy(self._probabilities, memo), \n",
    "                   deepcopy(self._nodes, memo), \n",
    "                   deepcopy(self._operations, memo))\n",
    "        \n",
    "        return out\n",
    "    \n",
    "    def __repr__(self, ):\n",
    "        return f'<Node: id={id(self)}>'\n",
    "    \n",
    "    def __str__(self, ):\n",
    "        out = ''\n",
    "        \n",
    "        for i in range(len(self)):\n",
    "            branch = '├─ ' if i != len(self)-1 else '└─ '\n",
    "            \n",
    "            out += (branch + f'{self._probabilities[i]:2.2f}' \n",
    "                    + ' ── ' + f'{self._outcomes[i].__repr__():8s}' + '\\n')\n",
    "            \n",
    "            if type(self._nodes[i]) == Node: # this loop enables branching\n",
    "                offset = '|      ' if i != len(self)-1 else '       '\n",
    "                \n",
    "                operation_out = offset + '| ' + self._operations[i].name + '\\n'\n",
    "                sub_out = offset + str(self._nodes[i]).replace('\\n', '\\n' + offset)\n",
    "                \n",
    "                out += operation_out + sub_out + '\\n'\n",
    "            \n",
    "        out = out[:-2] # remove the last linebreak\n",
    "            \n",
    "        return out\n",
    "    \n",
    "Node.issue_warnings(False)"
   ]
  },
  {
   "cell_type": "code",
   "execution_count": 65,
   "id": "823043ee-4cc3-469a-8624-e1f1252ab3bf",
   "metadata": {},
   "outputs": [],
   "source": [
    "def d(sides):\n",
    "    return Node(range(1, sides+1))"
   ]
  },
  {
   "cell_type": "code",
   "execution_count": 88,
   "id": "3c118448-6bc1-4df9-8b88-450c45a34b44",
   "metadata": {},
   "outputs": [],
   "source": [
    "a = Node([1,2,3,4], nodes=[None, None, Node([5,6], nodes=[Node(range(9)), Node([1], nodes=[Node(range(4))])]), None])"
   ]
  },
  {
   "cell_type": "code",
   "execution_count": 89,
   "id": "1c8d5bb2-786e-4d62-834c-7e6e95b78641",
   "metadata": {},
   "outputs": [
    {
     "name": "stdout",
     "output_type": "stream",
     "text": [
      "├─ 0.25 ── 1       \n",
      "├─ 0.25 ── 2       \n",
      "├─ 0.25 ── 3       \n",
      "|      | add\n",
      "|      ├─ 0.50 ── 5       \n",
      "|      |      | add\n",
      "|      |      ├─ 0.11 ── 0       \n",
      "|      |      ├─ 0.11 ── 1       \n",
      "|      |      ├─ 0.11 ── 2       \n",
      "|      |      ├─ 0.11 ── 3       \n",
      "|      |      ├─ 0.11 ── 4       \n",
      "|      |      ├─ 0.11 ── 5       \n",
      "|      |      ├─ 0.11 ── 6       \n",
      "|      |      ├─ 0.11 ── 7       \n",
      "|      |      └─ 0.11 ── 8      \n",
      "|      └─ 0.50 ── 6       \n",
      "|             | add\n",
      "|             └─ 1.00 ── 1       \n",
      "|                    | add\n",
      "|                    ├─ 0.25 ── 0       \n",
      "|                    ├─ 0.25 ── 1       \n",
      "|                    ├─ 0.25 ── 2       \n",
      "|                    └─ 0.25 ── 3    \n",
      "└─ 0.25 ── 4      \n"
     ]
    }
   ],
   "source": [
    "print(a)"
   ]
  },
  {
   "cell_type": "code",
   "execution_count": 90,
   "id": "59eddf56-56a6-408e-9a47-a384d5153693",
   "metadata": {
    "tags": []
   },
   "outputs": [
    {
     "name": "stdout",
     "output_type": "stream",
     "text": [
      "├─ 0.25 ── 1       \n",
      "├─ 0.25 ── 2       \n",
      "├─ 0.01 ── 8       \n",
      "├─ 0.01 ── 9       \n",
      "├─ 0.01 ── 10      \n",
      "├─ 0.01 ── 11      \n",
      "├─ 0.01 ── 12      \n",
      "├─ 0.01 ── 13      \n",
      "├─ 0.01 ── 14      \n",
      "├─ 0.01 ── 15      \n",
      "├─ 0.01 ── 16      \n",
      "├─ 0.03 ── 10      \n",
      "├─ 0.03 ── 11      \n",
      "├─ 0.03 ── 12      \n",
      "├─ 0.03 ── 13      \n",
      "└─ 0.25 ── 4      \n"
     ]
    }
   ],
   "source": [
    "print(a.collapse_v())"
   ]
  },
  {
   "cell_type": "code",
   "execution_count": 84,
   "id": "f4bd563a-0398-4274-b56b-7b3324425c59",
   "metadata": {},
   "outputs": [],
   "source": [
    "a = d(1) + d(1)"
   ]
  },
  {
   "cell_type": "code",
   "execution_count": 85,
   "id": "eaf0c9f5-dcb2-4ad7-8fbb-bb0e15798152",
   "metadata": {},
   "outputs": [
    {
     "name": "stdout",
     "output_type": "stream",
     "text": [
      "└─ 1.00 ── 1       \n",
      "       | add\n",
      "       └─ 1.00 ── 1     \n"
     ]
    }
   ],
   "source": [
    "print(a)"
   ]
  },
  {
   "cell_type": "code",
   "execution_count": 86,
   "id": "08f02ff0-4b44-4448-b33f-e2fbd10f5e4c",
   "metadata": {},
   "outputs": [
    {
     "name": "stdout",
     "output_type": "stream",
     "text": [
      "└─ 1.00 ── 2      \n"
     ]
    }
   ],
   "source": [
    "print(a.collapse_v())"
   ]
  },
  {
   "cell_type": "code",
   "execution_count": null,
   "id": "39370ff1-726f-41bf-81cd-cdd661231b3a",
   "metadata": {},
   "outputs": [],
   "source": []
  }
 ],
 "metadata": {
  "kernelspec": {
   "display_name": "Python 3 (ipykernel)",
   "language": "python",
   "name": "python3"
  },
  "language_info": {
   "codemirror_mode": {
    "name": "ipython",
    "version": 3
   },
   "file_extension": ".py",
   "mimetype": "text/x-python",
   "name": "python",
   "nbconvert_exporter": "python",
   "pygments_lexer": "ipython3",
   "version": "3.10.4"
  }
 },
 "nbformat": 4,
 "nbformat_minor": 5
}
